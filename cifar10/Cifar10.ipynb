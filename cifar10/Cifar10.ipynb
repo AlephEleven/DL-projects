{
  "nbformat": 4,
  "nbformat_minor": 0,
  "metadata": {
    "colab": {
      "name": "Cifar10.ipynb",
      "provenance": [],
      "collapsed_sections": [],
      "authorship_tag": "ABX9TyP2HxI1YEQyZVNxShP0kDC3",
      "include_colab_link": true
    },
    "kernelspec": {
      "name": "python3",
      "display_name": "Python 3"
    },
    "language_info": {
      "name": "python"
    },
    "accelerator": "GPU",
    "widgets": {
      "application/vnd.jupyter.widget-state+json": {
        "ef9853483c794097893b6031a59b77f3": {
          "model_module": "@jupyter-widgets/controls",
          "model_name": "HBoxModel",
          "model_module_version": "1.5.0",
          "state": {
            "_dom_classes": [],
            "_model_module": "@jupyter-widgets/controls",
            "_model_module_version": "1.5.0",
            "_model_name": "HBoxModel",
            "_view_count": null,
            "_view_module": "@jupyter-widgets/controls",
            "_view_module_version": "1.5.0",
            "_view_name": "HBoxView",
            "box_style": "",
            "children": [
              "IPY_MODEL_32b7d1e06edc49ec9c0fc35a5a42e059",
              "IPY_MODEL_7dc54047567745c1b523d819a37290f0",
              "IPY_MODEL_70622ec198834bf0b09cc2237f1258c5"
            ],
            "layout": "IPY_MODEL_3b410d17b9dc4608accb3d02ba4714ed"
          }
        },
        "32b7d1e06edc49ec9c0fc35a5a42e059": {
          "model_module": "@jupyter-widgets/controls",
          "model_name": "HTMLModel",
          "model_module_version": "1.5.0",
          "state": {
            "_dom_classes": [],
            "_model_module": "@jupyter-widgets/controls",
            "_model_module_version": "1.5.0",
            "_model_name": "HTMLModel",
            "_view_count": null,
            "_view_module": "@jupyter-widgets/controls",
            "_view_module_version": "1.5.0",
            "_view_name": "HTMLView",
            "description": "",
            "description_tooltip": null,
            "layout": "IPY_MODEL_4a260251087f4c75942b12cc319af7be",
            "placeholder": "​",
            "style": "IPY_MODEL_645148bc0e354d659a4ef6cfd1884be3",
            "value": ""
          }
        },
        "7dc54047567745c1b523d819a37290f0": {
          "model_module": "@jupyter-widgets/controls",
          "model_name": "FloatProgressModel",
          "model_module_version": "1.5.0",
          "state": {
            "_dom_classes": [],
            "_model_module": "@jupyter-widgets/controls",
            "_model_module_version": "1.5.0",
            "_model_name": "FloatProgressModel",
            "_view_count": null,
            "_view_module": "@jupyter-widgets/controls",
            "_view_module_version": "1.5.0",
            "_view_name": "ProgressView",
            "bar_style": "success",
            "description": "",
            "description_tooltip": null,
            "layout": "IPY_MODEL_e80ae7a755f641da9b06a7e9e7ff2dfc",
            "max": 170498071,
            "min": 0,
            "orientation": "horizontal",
            "style": "IPY_MODEL_b9e46559b6664c7d9ba3c119ff25c109",
            "value": 170498071
          }
        },
        "70622ec198834bf0b09cc2237f1258c5": {
          "model_module": "@jupyter-widgets/controls",
          "model_name": "HTMLModel",
          "model_module_version": "1.5.0",
          "state": {
            "_dom_classes": [],
            "_model_module": "@jupyter-widgets/controls",
            "_model_module_version": "1.5.0",
            "_model_name": "HTMLModel",
            "_view_count": null,
            "_view_module": "@jupyter-widgets/controls",
            "_view_module_version": "1.5.0",
            "_view_name": "HTMLView",
            "description": "",
            "description_tooltip": null,
            "layout": "IPY_MODEL_e36b67bd6af34657b5a3c7db60c203c6",
            "placeholder": "​",
            "style": "IPY_MODEL_304ec5e7e185491d87acd7139266b114",
            "value": " 170499072/? [00:04&lt;00:00, 37774529.98it/s]"
          }
        },
        "3b410d17b9dc4608accb3d02ba4714ed": {
          "model_module": "@jupyter-widgets/base",
          "model_name": "LayoutModel",
          "model_module_version": "1.2.0",
          "state": {
            "_model_module": "@jupyter-widgets/base",
            "_model_module_version": "1.2.0",
            "_model_name": "LayoutModel",
            "_view_count": null,
            "_view_module": "@jupyter-widgets/base",
            "_view_module_version": "1.2.0",
            "_view_name": "LayoutView",
            "align_content": null,
            "align_items": null,
            "align_self": null,
            "border": null,
            "bottom": null,
            "display": null,
            "flex": null,
            "flex_flow": null,
            "grid_area": null,
            "grid_auto_columns": null,
            "grid_auto_flow": null,
            "grid_auto_rows": null,
            "grid_column": null,
            "grid_gap": null,
            "grid_row": null,
            "grid_template_areas": null,
            "grid_template_columns": null,
            "grid_template_rows": null,
            "height": null,
            "justify_content": null,
            "justify_items": null,
            "left": null,
            "margin": null,
            "max_height": null,
            "max_width": null,
            "min_height": null,
            "min_width": null,
            "object_fit": null,
            "object_position": null,
            "order": null,
            "overflow": null,
            "overflow_x": null,
            "overflow_y": null,
            "padding": null,
            "right": null,
            "top": null,
            "visibility": null,
            "width": null
          }
        },
        "4a260251087f4c75942b12cc319af7be": {
          "model_module": "@jupyter-widgets/base",
          "model_name": "LayoutModel",
          "model_module_version": "1.2.0",
          "state": {
            "_model_module": "@jupyter-widgets/base",
            "_model_module_version": "1.2.0",
            "_model_name": "LayoutModel",
            "_view_count": null,
            "_view_module": "@jupyter-widgets/base",
            "_view_module_version": "1.2.0",
            "_view_name": "LayoutView",
            "align_content": null,
            "align_items": null,
            "align_self": null,
            "border": null,
            "bottom": null,
            "display": null,
            "flex": null,
            "flex_flow": null,
            "grid_area": null,
            "grid_auto_columns": null,
            "grid_auto_flow": null,
            "grid_auto_rows": null,
            "grid_column": null,
            "grid_gap": null,
            "grid_row": null,
            "grid_template_areas": null,
            "grid_template_columns": null,
            "grid_template_rows": null,
            "height": null,
            "justify_content": null,
            "justify_items": null,
            "left": null,
            "margin": null,
            "max_height": null,
            "max_width": null,
            "min_height": null,
            "min_width": null,
            "object_fit": null,
            "object_position": null,
            "order": null,
            "overflow": null,
            "overflow_x": null,
            "overflow_y": null,
            "padding": null,
            "right": null,
            "top": null,
            "visibility": null,
            "width": null
          }
        },
        "645148bc0e354d659a4ef6cfd1884be3": {
          "model_module": "@jupyter-widgets/controls",
          "model_name": "DescriptionStyleModel",
          "model_module_version": "1.5.0",
          "state": {
            "_model_module": "@jupyter-widgets/controls",
            "_model_module_version": "1.5.0",
            "_model_name": "DescriptionStyleModel",
            "_view_count": null,
            "_view_module": "@jupyter-widgets/base",
            "_view_module_version": "1.2.0",
            "_view_name": "StyleView",
            "description_width": ""
          }
        },
        "e80ae7a755f641da9b06a7e9e7ff2dfc": {
          "model_module": "@jupyter-widgets/base",
          "model_name": "LayoutModel",
          "model_module_version": "1.2.0",
          "state": {
            "_model_module": "@jupyter-widgets/base",
            "_model_module_version": "1.2.0",
            "_model_name": "LayoutModel",
            "_view_count": null,
            "_view_module": "@jupyter-widgets/base",
            "_view_module_version": "1.2.0",
            "_view_name": "LayoutView",
            "align_content": null,
            "align_items": null,
            "align_self": null,
            "border": null,
            "bottom": null,
            "display": null,
            "flex": null,
            "flex_flow": null,
            "grid_area": null,
            "grid_auto_columns": null,
            "grid_auto_flow": null,
            "grid_auto_rows": null,
            "grid_column": null,
            "grid_gap": null,
            "grid_row": null,
            "grid_template_areas": null,
            "grid_template_columns": null,
            "grid_template_rows": null,
            "height": null,
            "justify_content": null,
            "justify_items": null,
            "left": null,
            "margin": null,
            "max_height": null,
            "max_width": null,
            "min_height": null,
            "min_width": null,
            "object_fit": null,
            "object_position": null,
            "order": null,
            "overflow": null,
            "overflow_x": null,
            "overflow_y": null,
            "padding": null,
            "right": null,
            "top": null,
            "visibility": null,
            "width": null
          }
        },
        "b9e46559b6664c7d9ba3c119ff25c109": {
          "model_module": "@jupyter-widgets/controls",
          "model_name": "ProgressStyleModel",
          "model_module_version": "1.5.0",
          "state": {
            "_model_module": "@jupyter-widgets/controls",
            "_model_module_version": "1.5.0",
            "_model_name": "ProgressStyleModel",
            "_view_count": null,
            "_view_module": "@jupyter-widgets/base",
            "_view_module_version": "1.2.0",
            "_view_name": "StyleView",
            "bar_color": null,
            "description_width": ""
          }
        },
        "e36b67bd6af34657b5a3c7db60c203c6": {
          "model_module": "@jupyter-widgets/base",
          "model_name": "LayoutModel",
          "model_module_version": "1.2.0",
          "state": {
            "_model_module": "@jupyter-widgets/base",
            "_model_module_version": "1.2.0",
            "_model_name": "LayoutModel",
            "_view_count": null,
            "_view_module": "@jupyter-widgets/base",
            "_view_module_version": "1.2.0",
            "_view_name": "LayoutView",
            "align_content": null,
            "align_items": null,
            "align_self": null,
            "border": null,
            "bottom": null,
            "display": null,
            "flex": null,
            "flex_flow": null,
            "grid_area": null,
            "grid_auto_columns": null,
            "grid_auto_flow": null,
            "grid_auto_rows": null,
            "grid_column": null,
            "grid_gap": null,
            "grid_row": null,
            "grid_template_areas": null,
            "grid_template_columns": null,
            "grid_template_rows": null,
            "height": null,
            "justify_content": null,
            "justify_items": null,
            "left": null,
            "margin": null,
            "max_height": null,
            "max_width": null,
            "min_height": null,
            "min_width": null,
            "object_fit": null,
            "object_position": null,
            "order": null,
            "overflow": null,
            "overflow_x": null,
            "overflow_y": null,
            "padding": null,
            "right": null,
            "top": null,
            "visibility": null,
            "width": null
          }
        },
        "304ec5e7e185491d87acd7139266b114": {
          "model_module": "@jupyter-widgets/controls",
          "model_name": "DescriptionStyleModel",
          "model_module_version": "1.5.0",
          "state": {
            "_model_module": "@jupyter-widgets/controls",
            "_model_module_version": "1.5.0",
            "_model_name": "DescriptionStyleModel",
            "_view_count": null,
            "_view_module": "@jupyter-widgets/base",
            "_view_module_version": "1.2.0",
            "_view_name": "StyleView",
            "description_width": ""
          }
        }
      }
    }
  },
  "cells": [
    {
      "cell_type": "markdown",
      "metadata": {
        "id": "view-in-github",
        "colab_type": "text"
      },
      "source": [
        "<a href=\"https://colab.research.google.com/github/AlephEleven/datascience-projects/blob/main/cifar10/Cifar10.ipynb\" target=\"_parent\"><img src=\"https://colab.research.google.com/assets/colab-badge.svg\" alt=\"Open In Colab\"/></a>"
      ]
    },
    {
      "cell_type": "code",
      "execution_count": null,
      "metadata": {
        "id": "PwUbV_C3UFrs"
      },
      "outputs": [],
      "source": [
        "import matplotlib.pyplot as plt\n",
        "import numpy as np\n",
        "import torch\n",
        "import torch.nn as nn\n",
        "import torch.optim as optim\n",
        "from torchvision import datasets, transforms\n",
        "import datetime"
      ]
    },
    {
      "cell_type": "code",
      "source": [
        "if('cifar' not in dir(datasets)): #check for cifar\n",
        "  print(\"cifar not in datasets\")\n",
        "else:\n",
        "  data_path = \"data/\"\n",
        "  cifar10_train = datasets.CIFAR10(data_path,\n",
        "                         train=True,\n",
        "                         download=True,\n",
        "                             transform=transforms.Compose([\n",
        "                             transforms.ToTensor(),\n",
        "                             transforms.Normalize((0.4915, 0.4823, 0.4468),\n",
        "                             (0.2470, 0.2435, 0.2616))]))\n",
        "  \n",
        "  cifar10_val = datasets.CIFAR10(\n",
        "    data_path, train=False, download=False,\n",
        "    transform=transforms.Compose([\n",
        "        transforms.ToTensor(),\n",
        "        transforms.Normalize((0.4915, 0.4823, 0.4468),\n",
        "        (0.2470, 0.2435, 0.2616))]))"
      ],
      "metadata": {
        "colab": {
          "base_uri": "https://localhost:8080/",
          "height": 84,
          "referenced_widgets": [
            "ef9853483c794097893b6031a59b77f3",
            "32b7d1e06edc49ec9c0fc35a5a42e059",
            "7dc54047567745c1b523d819a37290f0",
            "70622ec198834bf0b09cc2237f1258c5",
            "3b410d17b9dc4608accb3d02ba4714ed",
            "4a260251087f4c75942b12cc319af7be",
            "645148bc0e354d659a4ef6cfd1884be3",
            "e80ae7a755f641da9b06a7e9e7ff2dfc",
            "b9e46559b6664c7d9ba3c119ff25c109",
            "e36b67bd6af34657b5a3c7db60c203c6",
            "304ec5e7e185491d87acd7139266b114"
          ]
        },
        "id": "nT8aoB7hUSXN",
        "outputId": "16c7dcdc-a8d1-454b-dd21-2a369f6f5d8b"
      },
      "execution_count": null,
      "outputs": [
        {
          "output_type": "stream",
          "name": "stdout",
          "text": [
            "Downloading https://www.cs.toronto.edu/~kriz/cifar-10-python.tar.gz to data/cifar-10-python.tar.gz\n"
          ]
        },
        {
          "output_type": "display_data",
          "data": {
            "text/plain": [
              "  0%|          | 0/170498071 [00:00<?, ?it/s]"
            ],
            "application/vnd.jupyter.widget-view+json": {
              "version_major": 2,
              "version_minor": 0,
              "model_id": "ef9853483c794097893b6031a59b77f3"
            }
          },
          "metadata": {}
        },
        {
          "output_type": "stream",
          "name": "stdout",
          "text": [
            "Extracting data/cifar-10-python.tar.gz to data/\n"
          ]
        }
      ]
    },
    {
      "cell_type": "code",
      "source": [
        "cifar10_train"
      ],
      "metadata": {
        "colab": {
          "base_uri": "https://localhost:8080/"
        },
        "id": "_YDSi2HlbMmR",
        "outputId": "089b4b19-5bfd-48e3-a607-130e9c3736af"
      },
      "execution_count": null,
      "outputs": [
        {
          "output_type": "execute_result",
          "data": {
            "text/plain": [
              "Dataset CIFAR10\n",
              "    Number of datapoints: 50000\n",
              "    Root location: data/\n",
              "    Split: Train\n",
              "    StandardTransform\n",
              "Transform: Compose(\n",
              "               ToTensor()\n",
              "               Normalize(mean=(0.4915, 0.4823, 0.4468), std=(0.247, 0.2435, 0.2616))\n",
              "           )"
            ]
          },
          "metadata": {},
          "execution_count": 8
        }
      ]
    },
    {
      "cell_type": "code",
      "source": [
        "# Display data\n",
        "n = 3\n",
        "offset = 50\n",
        "figure, axis = plt.subplots(n, n)\n",
        "figure.tight_layout()\n",
        "indx = 0 + offset\n",
        "for i in range(n):\n",
        "  for j in range(n):\n",
        "    axis[i, j].imshow(cifar10_train[indx+offset][0].permute(1, 2, 0), interpolation='nearest')\n",
        "    axis[i, j].set_title(f\"Object: {cifar10_train[indx+offset][1]} (#{indx})\")\n",
        "    axis[i, j].set_yticklabels([])\n",
        "    axis[i, j].set_xticklabels([])\n",
        "    indx += 1\n",
        "\n",
        "plt.show()"
      ],
      "metadata": {
        "colab": {
          "base_uri": "https://localhost:8080/",
          "height": 452
        },
        "id": "oFyCcaR3UoZ3",
        "outputId": "2861a18c-8e4e-407a-942a-66ac9084cc2c"
      },
      "execution_count": null,
      "outputs": [
        {
          "output_type": "stream",
          "name": "stderr",
          "text": [
            "Clipping input data to the valid range for imshow with RGB data ([0..1] for floats or [0..255] for integers).\n",
            "Clipping input data to the valid range for imshow with RGB data ([0..1] for floats or [0..255] for integers).\n",
            "Clipping input data to the valid range for imshow with RGB data ([0..1] for floats or [0..255] for integers).\n",
            "Clipping input data to the valid range for imshow with RGB data ([0..1] for floats or [0..255] for integers).\n",
            "Clipping input data to the valid range for imshow with RGB data ([0..1] for floats or [0..255] for integers).\n",
            "Clipping input data to the valid range for imshow with RGB data ([0..1] for floats or [0..255] for integers).\n",
            "Clipping input data to the valid range for imshow with RGB data ([0..1] for floats or [0..255] for integers).\n",
            "Clipping input data to the valid range for imshow with RGB data ([0..1] for floats or [0..255] for integers).\n",
            "Clipping input data to the valid range for imshow with RGB data ([0..1] for floats or [0..255] for integers).\n"
          ]
        },
        {
          "output_type": "display_data",
          "data": {
            "text/plain": [
              "<Figure size 432x288 with 9 Axes>"
            ],
            "image/png": "[encoded data removed]"
          },
          "metadata": {
            "needs_background": "light"
          }
        }
      ]
    },
    {
      "cell_type": "code",
      "source": [
        "#Convolution Model\n",
        "# [3C x 32 x 32] -> [16C x 32 x 32] -> tanh -> [16C x 16 x 16] -> [8C x 16 x 16] -> tanh -> [8C x 8 x 8] \n",
        "# -> flatten -> lin32 -> tanh -> lin10\n",
        "#input is rgb 32x32 image, output is 10 possible objects.\n",
        "import torch.nn.functional as F\n",
        "class Net(nn.Module):\n",
        "  def __init__(self):\n",
        "    super().__init__()\n",
        "    self.conv1 = nn.Conv2d(3, 16, kernel_size=3, padding=1)\n",
        "    self.conv2 = nn.Conv2d(16, 8, kernel_size=3, padding=1)\n",
        "    self.fc1 = nn.Linear(8 * 8 * 8, 32)\n",
        "    self.fc2 = nn.Linear(32, 10)\n",
        "  def forward(self, x):\n",
        "    out = F.max_pool2d(torch.tanh(self.conv1(x)), 2)\n",
        "    out = F.max_pool2d(torch.tanh(self.conv2(out)), 2)\n",
        "    out = out.view(-1, 8 * 8 * 8)\n",
        "    out = torch.tanh(self.fc1(out))\n",
        "    out = self.fc2(out)\n",
        "    return out\n",
        "\n",
        "model = Net()\n",
        "model"
      ],
      "metadata": {
        "colab": {
          "base_uri": "https://localhost:8080/"
        },
        "id": "kdmbPhaxWFR6",
        "outputId": "33c63c65-48b4-4c56-ae86-9d92c8e75a08"
      },
      "execution_count": null,
      "outputs": [
        {
          "output_type": "execute_result",
          "data": {
            "text/plain": [
              "Net(\n",
              "  (conv1): Conv2d(3, 16, kernel_size=(3, 3), stride=(1, 1), padding=(1, 1))\n",
              "  (conv2): Conv2d(16, 8, kernel_size=(3, 3), stride=(1, 1), padding=(1, 1))\n",
              "  (fc1): Linear(in_features=512, out_features=32, bias=True)\n",
              "  (fc2): Linear(in_features=32, out_features=10, bias=True)\n",
              ")"
            ]
          },
          "metadata": {},
          "execution_count": 5
        }
      ]
    },
    {
      "cell_type": "code",
      "source": [
        "#change runtime type to GPU/TPU\n",
        "device = (torch.device('cuda') if torch.cuda.is_available() else torch.device('cpu'))\n",
        "print(f\"Training on device {device}.\")"
      ],
      "metadata": {
        "colab": {
          "base_uri": "https://localhost:8080/"
        },
        "id": "uz8CkBQ8Wkyl",
        "outputId": "6d762149-b1ab-4582-ee33-6b44f9c6de43"
      },
      "execution_count": null,
      "outputs": [
        {
          "output_type": "stream",
          "name": "stdout",
          "text": [
            "Training on device cuda.\n"
          ]
        }
      ]
    },
    {
      "cell_type": "code",
      "source": [
        "#Train\n",
        "import datetime\n",
        "def training_loop(n_epochs, optimizer, model, loss_fn, train_loader):\n",
        "  for epoch in range(1, n_epochs + 1):\n",
        "    loss_train = 0.0\n",
        "    for imgs, labels in train_loader:\n",
        "      imgs = imgs.to(device=device) #send to current device\n",
        "      labels = labels.to(device=device) #\n",
        "      outputs = model(imgs)\n",
        "      loss = loss_fn(outputs, labels)\n",
        "      optimizer.zero_grad()\n",
        "      loss.backward()\n",
        "      optimizer.step()\n",
        "      loss_train += loss.item()\n",
        "    if epoch == 1 or epoch % 10 == 0:\n",
        "      print('{} Epoch {}, Training loss {}'.format(datetime.datetime.now(), epoch, loss_train / len(train_loader)))"
      ],
      "metadata": {
        "id": "9ylgKc3yYCTx"
      },
      "execution_count": null,
      "outputs": []
    },
    {
      "cell_type": "code",
      "source": [
        "train_loader = torch.utils.data.DataLoader(cifar10_train, batch_size=64,shuffle=True)\n",
        "\n",
        "model = Net().to(device=device) #move model to device\n",
        "optimizer = optim.Adam(model.parameters(), lr=1e-2) #\n",
        "loss_fn = nn.CrossEntropyLoss() #\n",
        "training_loop(\n",
        "  n_epochs = 200,\n",
        "  optimizer = optimizer,\n",
        "  model = model,\n",
        "  loss_fn = loss_fn,\n",
        "  train_loader = train_loader,\n",
        ")"
      ],
      "metadata": {
        "colab": {
          "base_uri": "https://localhost:8080/"
        },
        "id": "iONL0cxuYMr2",
        "outputId": "bbd88127-1c1c-49cb-c5b9-f52a2b4eb2fd"
      },
      "execution_count": null,
      "outputs": [
        {
          "output_type": "stream",
          "name": "stdout",
          "text": [
            "2022-05-28 21:13:07.728153 Epoch 1, Training loss 2.031951287061052\n",
            "2022-05-28 21:14:50.403442 Epoch 10, Training loss 1.2141327402933175\n",
            "2022-05-28 21:16:44.025061 Epoch 20, Training loss 1.0453034524265152\n",
            "2022-05-28 21:18:37.416155 Epoch 30, Training loss 0.9502776570789649\n",
            "2022-05-28 21:20:28.931518 Epoch 40, Training loss 0.8862814923838886\n",
            "2022-05-28 21:22:18.222605 Epoch 50, Training loss 0.8387022910215666\n",
            "2022-05-28 21:24:08.053593 Epoch 60, Training loss 0.8023295085448439\n",
            "2022-05-28 21:25:57.278493 Epoch 70, Training loss 0.7730007566454465\n",
            "2022-05-28 21:27:47.384068 Epoch 80, Training loss 0.7468551668288458\n",
            "2022-05-28 21:29:39.182808 Epoch 90, Training loss 0.725396301473498\n",
            "2022-05-28 21:31:29.222794 Epoch 100, Training loss 0.7072076064622616\n",
            "2022-05-28 21:33:18.615147 Epoch 110, Training loss 0.6890173746877924\n",
            "2022-05-28 21:35:07.034756 Epoch 120, Training loss 0.6742212815815226\n",
            "2022-05-28 21:36:55.853763 Epoch 130, Training loss 0.6589489258311289\n",
            "2022-05-28 21:38:45.666153 Epoch 140, Training loss 0.6481200684900479\n",
            "2022-05-28 21:40:34.331233 Epoch 150, Training loss 0.6367498779159677\n",
            "2022-05-28 21:42:23.512195 Epoch 160, Training loss 0.6244758709769724\n",
            "2022-05-28 21:44:12.557733 Epoch 170, Training loss 0.6156584480229546\n",
            "2022-05-28 21:46:01.728060 Epoch 180, Training loss 0.6059560080242279\n",
            "2022-05-28 21:47:51.456535 Epoch 190, Training loss 0.5971962320225318\n",
            "2022-05-28 21:49:41.215602 Epoch 200, Training loss 0.5892391203690672\n"
          ]
        }
      ]
    },
    {
      "cell_type": "code",
      "source": [
        "from google.colab import drive\n",
        "drive.mount('/content/drive')\n",
        "data_path = \"drive/MyDrive/Pytorch/models/\""
      ],
      "metadata": {
        "id": "P4URg4UAYmAw",
        "colab": {
          "base_uri": "https://localhost:8080/"
        },
        "outputId": "abdbcad5-5b9b-493c-dd14-1401265e57fc"
      },
      "execution_count": null,
      "outputs": [
        {
          "output_type": "stream",
          "name": "stdout",
          "text": [
            "Drive already mounted at /content/drive; to attempt to forcibly remount, call drive.mount(\"/content/drive\", force_remount=True).\n"
          ]
        }
      ]
    },
    {
      "cell_type": "code",
      "source": [
        "torch.save(model.state_dict(), data_path + 'cifar10.pt')"
      ],
      "metadata": {
        "id": "jX5taa6XhoNz"
      },
      "execution_count": null,
      "outputs": []
    },
    {
      "cell_type": "code",
      "source": [
        "loaded_model = Net().to(device=device)\n",
        "loaded_model.load_state_dict(torch.load(data_path + 'cifar10.pt', map_location=device))"
      ],
      "metadata": {
        "id": "q7_hL3fIYYWT",
        "colab": {
          "base_uri": "https://localhost:8080/"
        },
        "outputId": "d94d822e-00d2-4091-f412-ce713604c1df"
      },
      "execution_count": null,
      "outputs": [
        {
          "output_type": "execute_result",
          "data": {
            "text/plain": [
              "<All keys matched successfully>"
            ]
          },
          "metadata": {},
          "execution_count": 18
        }
      ]
    },
    {
      "cell_type": "code",
      "source": [
        "train_loader = torch.utils.data.DataLoader(cifar10_train, batch_size=64,shuffle=False)\n",
        "val_loader = torch.utils.data.DataLoader(cifar10_val, batch_size=64,shuffle=False)\n",
        "def validate(model, train_loader, val_loader):\n",
        "  for name, loader in [(\"train\", train_loader), (\"val\", val_loader)]:\n",
        "    correct = 0\n",
        "    total = 0\n",
        "    with torch.no_grad():\n",
        "      for imgs, labels in loader:\n",
        "        imgs = imgs.to(device=device) #send to current device\n",
        "        labels = labels.to(device=device) #\n",
        "        outputs = model(imgs)\n",
        "        _, predicted = torch.max(outputs, dim=1)\n",
        "        total += labels.shape[0]\n",
        "        correct += int((predicted == labels).sum())\n",
        "    print(\"Accuracy {}: {:.2f}\".format(name , correct / total))\n",
        "validate(loaded_model, train_loader, val_loader)"
      ],
      "metadata": {
        "colab": {
          "base_uri": "https://localhost:8080/"
        },
        "id": "2C6-ezO7Yw2Y",
        "outputId": "c8a0462c-9d2b-4596-f42f-b85c3d7372b2"
      },
      "execution_count": null,
      "outputs": [
        {
          "output_type": "stream",
          "name": "stdout",
          "text": [
            "Accuracy train: 0.78\n",
            "Accuracy val: 0.63\n"
          ]
        }
      ]
    },
    {
      "cell_type": "code",
      "source": [
        "#use loaded model to train this time\n",
        "\n",
        "train_loader = torch.utils.data.DataLoader(cifar10_train, batch_size=64,shuffle=True)\n",
        "\n",
        "optimizer = optim.SGD(loaded_model.parameters(), lr=1e-2) #\n",
        "loss_fn = nn.CrossEntropyLoss() #\n",
        "training_loop(\n",
        "  n_epochs = 30,\n",
        "  optimizer = optimizer,\n",
        "  model = loaded_model,\n",
        "  loss_fn = loss_fn,\n",
        "  train_loader = train_loader,\n",
        ")"
      ],
      "metadata": {
        "colab": {
          "base_uri": "https://localhost:8080/"
        },
        "id": "IxwnKtUNrUQy",
        "outputId": "d8d5846a-e19e-4852-d1bd-cf545c241f0a"
      },
      "execution_count": null,
      "outputs": [
        {
          "output_type": "stream",
          "name": "stdout",
          "text": [
            "2022-05-28 22:04:13.621189 Epoch 1, Training loss 0.5917228312824693\n",
            "2022-05-28 22:05:51.087700 Epoch 10, Training loss 0.5843123156777428\n",
            "2022-05-28 22:07:39.466574 Epoch 20, Training loss 0.5741514812421311\n",
            "2022-05-28 22:09:28.186251 Epoch 30, Training loss 0.5705928768190887\n"
          ]
        }
      ]
    }
  ]
}